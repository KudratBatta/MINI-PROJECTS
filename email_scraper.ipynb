{
  "nbformat": 4,
  "nbformat_minor": 0,
  "metadata": {
    "colab": {
      "provenance": [],
      "authorship_tag": "ABX9TyMd9dC8pPioYougFfax/kyn",
      "include_colab_link": true
    },
    "kernelspec": {
      "name": "python3",
      "display_name": "Python 3"
    },
    "language_info": {
      "name": "python"
    }
  },
  "cells": [
    {
      "cell_type": "markdown",
      "metadata": {
        "id": "view-in-github",
        "colab_type": "text"
      },
      "source": [
        "<a href=\"https://colab.research.google.com/github/KudratBatta/MINI-PROJECTS/blob/main/email_scraper.ipynb\" target=\"_parent\"><img src=\"https://colab.research.google.com/assets/colab-badge.svg\" alt=\"Open In Colab\"/></a>"
      ]
    },
    {
      "cell_type": "code",
      "source": [
        "!pip install requests-html lxml_html_clean"
      ],
      "metadata": {
        "colab": {
          "base_uri": "https://localhost:8080/"
        },
        "id": "2M-_FIWCnCHC",
        "outputId": "cf1f41dd-eb09-4c8a-f8a9-e867e699237e"
      },
      "execution_count": null,
      "outputs": [
        {
          "output_type": "stream",
          "name": "stdout",
          "text": [
            "Requirement already satisfied: requests-html in /usr/local/lib/python3.11/dist-packages (0.10.0)\n",
            "Requirement already satisfied: lxml_html_clean in /usr/local/lib/python3.11/dist-packages (0.4.2)\n",
            "Requirement already satisfied: requests in /usr/local/lib/python3.11/dist-packages (from requests-html) (2.32.3)\n",
            "Requirement already satisfied: pyquery in /usr/local/lib/python3.11/dist-packages (from requests-html) (2.0.1)\n",
            "Requirement already satisfied: fake-useragent in /usr/local/lib/python3.11/dist-packages (from requests-html) (2.2.0)\n",
            "Requirement already satisfied: parse in /usr/local/lib/python3.11/dist-packages (from requests-html) (1.20.2)\n",
            "Requirement already satisfied: bs4 in /usr/local/lib/python3.11/dist-packages (from requests-html) (0.0.2)\n",
            "Requirement already satisfied: w3lib in /usr/local/lib/python3.11/dist-packages (from requests-html) (2.3.1)\n",
            "Requirement already satisfied: pyppeteer>=0.0.14 in /usr/local/lib/python3.11/dist-packages (from requests-html) (2.0.0)\n",
            "Requirement already satisfied: lxml in /usr/local/lib/python3.11/dist-packages (from lxml_html_clean) (5.4.0)\n",
            "Requirement already satisfied: appdirs<2.0.0,>=1.4.3 in /usr/local/lib/python3.11/dist-packages (from pyppeteer>=0.0.14->requests-html) (1.4.4)\n",
            "Requirement already satisfied: certifi>=2023 in /usr/local/lib/python3.11/dist-packages (from pyppeteer>=0.0.14->requests-html) (2025.6.15)\n",
            "Requirement already satisfied: importlib-metadata>=1.4 in /usr/local/lib/python3.11/dist-packages (from pyppeteer>=0.0.14->requests-html) (8.7.0)\n",
            "Requirement already satisfied: pyee<12.0.0,>=11.0.0 in /usr/local/lib/python3.11/dist-packages (from pyppeteer>=0.0.14->requests-html) (11.1.1)\n",
            "Requirement already satisfied: tqdm<5.0.0,>=4.42.1 in /usr/local/lib/python3.11/dist-packages (from pyppeteer>=0.0.14->requests-html) (4.67.1)\n",
            "Requirement already satisfied: urllib3<2.0.0,>=1.25.8 in /usr/local/lib/python3.11/dist-packages (from pyppeteer>=0.0.14->requests-html) (1.26.20)\n",
            "Requirement already satisfied: websockets<11.0,>=10.0 in /usr/local/lib/python3.11/dist-packages (from pyppeteer>=0.0.14->requests-html) (10.4)\n",
            "Requirement already satisfied: beautifulsoup4 in /usr/local/lib/python3.11/dist-packages (from bs4->requests-html) (4.13.4)\n",
            "Requirement already satisfied: cssselect>=1.2.0 in /usr/local/lib/python3.11/dist-packages (from pyquery->requests-html) (1.3.0)\n",
            "Requirement already satisfied: charset-normalizer<4,>=2 in /usr/local/lib/python3.11/dist-packages (from requests->requests-html) (3.4.2)\n",
            "Requirement already satisfied: idna<4,>=2.5 in /usr/local/lib/python3.11/dist-packages (from requests->requests-html) (3.10)\n",
            "Requirement already satisfied: zipp>=3.20 in /usr/local/lib/python3.11/dist-packages (from importlib-metadata>=1.4->pyppeteer>=0.0.14->requests-html) (3.23.0)\n",
            "Requirement already satisfied: typing-extensions in /usr/local/lib/python3.11/dist-packages (from pyee<12.0.0,>=11.0.0->pyppeteer>=0.0.14->requests-html) (4.14.0)\n",
            "Requirement already satisfied: soupsieve>1.2 in /usr/local/lib/python3.11/dist-packages (from beautifulsoup4->bs4->requests-html) (2.7)\n"
          ]
        }
      ]
    },
    {
      "cell_type": "code",
      "source": [
        "from requests_html import AsyncHTMLSession\n",
        "import re\n",
        "import asyncio\n",
        "import pandas as pd\n",
        "from urllib.parse import urljoin, urlparse\n",
        "\n",
        "#  Async scraping function\n",
        "emails_set = set()\n",
        "visited_urls = set()\n",
        "\n",
        "async def scrape_emails_from_url(session, url, max_emails=20):\n",
        "    global emails_set, visited_urls\n",
        "\n",
        "    if len(emails_set) >= max_emails or url in visited_urls:\n",
        "        return\n",
        "\n",
        "    visited_urls.add(url)\n",
        "\n",
        "    try:\n",
        "        r = await session.get(url)\n",
        "        await r.html.arender(timeout=20, sleep=1)\n",
        "\n",
        "        text = r.html.text\n",
        "        found_emails = set(re.findall(r'[a-zA-Z0-9._%+-]+@[a-zA-Z0-9.-]+\\.[a-zA-Z]{2,}', text))\n",
        "        emails_set.update(found_emails)\n",
        "\n",
        "        print(f\"[+] {url} — {len(emails_set)} emails found\")\n",
        "\n",
        "\n",
        "        base_url = \"{0.scheme}://{0.netloc}\".format(urlparse(url))\n",
        "        links = r.html.absolute_links\n",
        "        internal_links = [link for link in links if link.startswith(base_url)]\n",
        "\n",
        "        for link in internal_links:\n",
        "            if len(emails_set) >= max_emails:\n",
        "                break\n",
        "            await scrape_emails_from_url(session, link, max_emails)\n",
        "\n",
        "    except Exception as e:\n",
        "        print(f\"[!] Failed to fetch {url}: {e}\")\n",
        "\n",
        "\n",
        "async def main():\n",
        "    session = AsyncHTMLSession()\n",
        "    start_url = \"https://www.thapar.edu\"\n",
        "    await scrape_emails_from_url(session, start_url, max_emails=20)\n",
        "\n",
        "\n",
        "    emails_list = list(emails_set)[:20]\n",
        "    df = pd.DataFrame(emails_list, columns=[\"Email\"])\n",
        "    df.to_csv(\"emails.csv\", index=False)\n",
        "    print(\"\\n✅ Emails saved to 'emails.csv'\")\n",
        "\n",
        "\n",
        "await main()\n"
      ],
      "metadata": {
        "colab": {
          "base_uri": "https://localhost:8080/"
        },
        "id": "0Goa776_miJM",
        "outputId": "a37c05f7-a4cc-4f28-ecfa-b844c5a3eb6f"
      },
      "execution_count": null,
      "outputs": [
        {
          "output_type": "stream",
          "name": "stdout",
          "text": [
            "[+] https://www.thapar.edu — 1 emails found\n",
            "[+] https://www.thapar.edu/students/pages/scholarships — 1 emails found\n",
            "[!] Failed to fetch https://www.thapar.edu/upload/files/Notice for Post Matric Scholarship (Govt.).pdf: net::ERR_ABORTED at https://www.thapar.edu/upload/files/Notice%20for%20Post%20Matric%20Scholarship%20(Govt.).pdf\n",
            "[!] Failed to fetch https://www.thapar.edu/upload/files/dateextnsalumniandsch 2023-24.pdf: net::ERR_ABORTED at https://www.thapar.edu/upload/files/dateextnsalumniandsch%202023-24.pdf\n",
            "[!] Failed to fetch https://www.thapar.edu/upload/files/Pro-Forma for Alumni MCM Scholarshipre(TIETDOAASCH(MCM ALUMNI)FT-002).pdf: net::ERR_ABORTED at https://www.thapar.edu/upload/files/Pro-Forma%20for%20Alumni%20MCM%20Scholarshipre(TIETDOAASCH(MCM%20ALUMNI)FT-002).pdf\n",
            "[!] Failed to fetch https://www.thapar.edu/upload/files/Notice for Merit-cum-Means Scholarship for the year 2018-19.pdf: net::ERR_ABORTED at https://www.thapar.edu/upload/files/Notice%20for%20Merit-cum-Means%20Scholarship%20for%20the%20year%202018-19.pdf\n",
            "[+] https://www.thapar.edu/students/pages/notifications-for-awards-award-criteria — 1 emails found\n",
            "[!] Failed to fetch https://www.thapar.edu/upload/files/S. Ranbir Singh Memorial Medal Notification24.pdf: net::ERR_ABORTED at https://www.thapar.edu/upload/files/S.%20Ranbir%20Singh%20Memorial%20Medal%20Notification24.pdf\n",
            "[+] https://www.thapar.edu/students/pages/insurance — 1 emails found\n",
            "[+] https://www.thapar.edu/academics — 1 emails found\n",
            "[+] https://www.thapar.edu/aboutus — 1 emails found\n",
            "[+] https://www.thapar.edu/aboutus/pages/gallary — 1 emails found\n",
            "[!] Failed to fetch https://www.thapar.edu/upload/files/Educators CounsellorsMeet at TIET.pdf: net::ERR_ABORTED at https://www.thapar.edu/upload/files/Educators%20CounsellorsMeet%20at%20TIET.pdf\n",
            "[+] https://www.thapar.edu/misces/pages/pulse — 1 emails found\n",
            "[+] https://www.thapar.edu/misces/pages/lmtsm — 1 emails found\n",
            "[+] https://www.thapar.edu/misces/pages/openings — 1 emails found\n",
            "[+] https://www.thapar.edu/misces/pages/central-stores — 1 emails found\n",
            "[+] https://www.thapar.edu/misces/pages/email — 1 emails found\n",
            "[+] https://www.thapar.edu/misces/latestupdated — 1 emails found\n",
            "[+] https://www.thapar.edu/misces/latestpages/jrf-pa-openings — 1 emails found\n",
            "[+] https://www.thapar.edu/Anti Ragging — 1 emails found\n",
            "[+] https://www.thapar.edu/programmes — 1 emails found\n",
            "[+] https://www.thapar.edu/programmes/pages/electrical-engineering — 1 emails found\n",
            "[+] https://www.thapar.edu/students/pages/reaching-tiet — 1 emails found\n",
            "[+] https://www.thapar.edu/students/pages/cultural-and-sports-activities — 1 emails found\n",
            "[+] https://www.thapar.edu/students/pages/buddy-program — 2 emails found\n",
            "[+] https://www.thapar.edu/misces/pages/eia-clearance — 2 emails found\n",
            "[!] Failed to fetch https://www.thapar.edu/upload/files/Six-monthly 31.03.2021.pdf: net::ERR_ABORTED at https://www.thapar.edu/upload/files/Six-monthly%2031.03.2021.pdf\n",
            "[!] Failed to fetch https://www.thapar.edu/upload/files/sixmonth31.03.2024.pdf: net::ERR_ABORTED at https://www.thapar.edu/upload/files/sixmonth31.03.2024.pdf\n",
            "[+] https://www.thapar.edu/misces/pages/tiet — 2 emails found\n",
            "[!] Failed to fetch https://www.thapar.edu/upload/files/advtpost.pdf: net::ERR_ABORTED at https://www.thapar.edu/upload/files/advtpost.pdf\n",
            "[+] https://www.thapar.edu/upload/files/Advertisement  (AP Contractual).jpg — 2 emails found\n",
            "[+] https://www.thapar.edu/misces/pages/aicte-approvals — 2 emails found\n",
            "[!] Failed to fetch https://www.thapar.edu/upload/files/9. AICTE approval (2016-17).pdf: net::ERR_ABORTED at https://www.thapar.edu/upload/files/9.%20AICTE%20approval%20(2016-17).pdf\n",
            "[!] Failed to fetch https://www.thapar.edu/upload/files/16. AICTE APPROVAL 2020-21 (TIET).pdf: net::ERR_ABORTED at https://www.thapar.edu/upload/files/16.%20AICTE%20APPROVAL%202020-21%20(TIET).pdf\n",
            "[!] Failed to fetch https://www.thapar.edu/upload/files/1. AICTE APPROVALS (1994-2007).pdf: net::ERR_ABORTED at https://www.thapar.edu/upload/files/1.%20AICTE%20APPROVALS%20(1994-2007).pdf\n",
            "[+] https://www.thapar.edu/misces/pages/forms — 2 emails found\n",
            "[!] Failed to fetch https://www.thapar.edu/images/forms/COMMON%20BOOKING%20FORM%20FOR%20ALL%20HALLS.pdf: net::ERR_ABORTED at https://www.thapar.edu/images/forms/COMMON%20BOOKING%20FORM%20FOR%20ALL%20HALLS.pdf\n",
            "[!] Failed to fetch https://www.thapar.edu/images/forms/Tu%20Reprographic%20Services.pdf: net::ERR_ABORTED at https://www.thapar.edu/images/forms/Tu%20Reprographic%20Services.pdf\n",
            "[+] https://www.thapar.edu/misces/pages/mandatory-disclosure — 2 emails found\n",
            "[+] https://www.thapar.edu/misces/pages/nirf-2018-data — 3 emails found\n",
            "[!] Failed to fetch https://www.thapar.edu/upload/files/NIRF 2025_SDG Institution.pdf: net::ERR_ABORTED at https://www.thapar.edu/upload/files/NIRF%202025_SDG%20Institution.pdf\n",
            "[!] Failed to fetch https://www.thapar.edu/upload/files/NIRF 2024_Overall.pdf: net::ERR_ABORTED at https://www.thapar.edu/upload/files/NIRF%202024_Overall.pdf\n",
            "[+] https://www.thapar.edu/contemporisation — 3 emails found\n",
            "[+] https://www.thapar.edu/Regulatory Compliances — 3 emails found\n",
            "[+] https://www.thapar.edu/ — 3 emails found\n",
            "[+] https://www.thapar.edu/aboutus/newspage/tiet-partners-with-nvidia-to-launch-thapar-school-of-advanced-ai-and-d — 3 emails found\n",
            "[+] https://www.thapar.edu/aboutus/pages/energy — 3 emails found\n",
            "[+] https://www.thapar.edu/aboutus/pages/outreach-activity — 3 emails found\n",
            "[+] https://www.thapar.edu/aboutus/pages/water — 3 emails found\n",
            "[+] https://www.thapar.edu/aboutus/pages/history — 3 emails found\n",
            "[+] https://www.thapar.edu/aboutus/pages/latest-news — 3 emails found\n",
            "[+] https://www.thapar.edu/Rankings — 3 emails found\n",
            "[!] Failed to fetch https://www.thapar.edu/upload/files/NEP2020 PolicyTIET.pdf: net::ERR_ABORTED at https://www.thapar.edu/upload/files/NEP2020%20PolicyTIET.pdf\n",
            "[!] Failed to fetch https://www.thapar.edu/upload/files/Ceems Newsletter III .pdf: net::ERR_ABORTED at https://www.thapar.edu/upload/files/Ceems%20Newsletter%20III%20.pdf\n",
            "[+] https://www.thapar.edu/students/pages/student-grievance-redressal — 3 emails found\n",
            "[+] https://www.thapar.edu/students/pages/dean-student-notice-board — 34 emails found\n",
            "\n",
            "✅ Emails saved to 'emails.csv'\n"
          ]
        }
      ]
    }
  ]
}